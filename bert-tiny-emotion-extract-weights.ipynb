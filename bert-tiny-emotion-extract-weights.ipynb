{
 "cells": [
  {
   "cell_type": "code",
   "execution_count": 1,
   "metadata": {},
   "outputs": [
    {
     "name": "stderr",
     "output_type": "stream",
     "text": [
      "/home/tony/FHE-BERT-Tiny/env/lib/python3.12/site-packages/tqdm/auto.py:21: TqdmWarning: IProgress not found. Please update jupyter and ipywidgets. See https://ipywidgets.readthedocs.io/en/stable/user_install.html\n",
      "  from .autonotebook import tqdm as notebook_tqdm\n",
      "/home/tony/FHE-BERT-Tiny/env/lib/python3.12/site-packages/transformers/tokenization_utils_base.py:1617: FutureWarning: `clean_up_tokenization_spaces` was not set. It will be set to `True` by default. This behavior will be deprecated in transformers v4.45, and will be then set to `False` by default. For more details check this issue: https://github.com/huggingface/transformers/issues/31884\n",
      "  warnings.warn(\n"
     ]
    }
   ],
   "source": [
    "# Load fine-tuned model\n",
    "from transformers import AutoTokenizer, AutoModelForSequenceClassification\n",
    "\n",
    "tokenizer = AutoTokenizer.from_pretrained(\"gokuls/BERT-tiny-emotion-intent\")\n",
    "model = AutoModelForSequenceClassification.from_pretrained(\"gokuls/BERT-tiny-emotion-intent\")"
   ]
  },
  {
   "cell_type": "code",
   "execution_count": 2,
   "metadata": {},
   "outputs": [
    {
     "name": "stdout",
     "output_type": "stream",
     "text": [
      "Saved bert.encoder.layer.0.attention.self.query.weight to weights-emotion/layer0_attself_query_weight.txt\n",
      "Saved bert.encoder.layer.0.attention.self.query.bias to weights-emotion/layer0_attself_query_bias.txt\n",
      "Saved bert.encoder.layer.0.attention.self.key.weight to weights-emotion/layer0_attself_key_weight.txt\n",
      "Saved bert.encoder.layer.0.attention.self.key.bias to weights-emotion/layer0_attself_key_bias.txt\n",
      "Saved bert.encoder.layer.0.attention.self.value.weight to weights-emotion/layer0_attself_value_weight.txt\n",
      "Saved bert.encoder.layer.0.attention.self.value.bias to weights-emotion/layer0_attself_value_bias.txt\n",
      "Saved bert.encoder.layer.0.attention.output.dense.weight to weights-emotion/layer0_selfoutput_weight.txt\n",
      "Saved bert.encoder.layer.0.attention.output.dense.bias to weights-emotion/layer0_selfoutput_bias.txt\n",
      "Saved bert.encoder.layer.0.intermediate.dense.weight to weights-emotion/layer0_intermediate_weight.txt\n",
      "Saved bert.encoder.layer.0.intermediate.dense.bias to weights-emotion/layer0_intermediate_bias.txt\n",
      "Saved bert.encoder.layer.0.output.dense.weight to weights-emotion/layer0_output_weight.txt\n",
      "Saved bert.encoder.layer.0.output.dense.bias to weights-emotion/layer0_output_bias.txt\n",
      "Saved bert.encoder.layer.1.attention.self.query.weight to weights-emotion/layer1_attself_query_weight.txt\n",
      "Saved bert.encoder.layer.1.attention.self.query.bias to weights-emotion/layer1_attself_query_bias.txt\n",
      "Saved bert.encoder.layer.1.attention.self.key.weight to weights-emotion/layer1_attself_key_weight.txt\n",
      "Saved bert.encoder.layer.1.attention.self.key.bias to weights-emotion/layer1_attself_key_bias.txt\n",
      "Saved bert.encoder.layer.1.attention.self.value.weight to weights-emotion/layer1_attself_value_weight.txt\n",
      "Saved bert.encoder.layer.1.attention.self.value.bias to weights-emotion/layer1_attself_value_bias.txt\n",
      "Saved bert.encoder.layer.1.attention.output.dense.weight to weights-emotion/layer1_selfoutput_weight.txt\n",
      "Saved bert.encoder.layer.1.attention.output.dense.bias to weights-emotion/layer1_selfoutput_bias.txt\n",
      "Saved bert.encoder.layer.1.intermediate.dense.weight to weights-emotion/layer1_intermediate_weight.txt\n",
      "Saved bert.encoder.layer.1.intermediate.dense.bias to weights-emotion/layer1_intermediate_bias.txt\n",
      "Saved bert.encoder.layer.1.output.dense.weight to weights-emotion/layer1_output_weight.txt\n",
      "Saved bert.encoder.layer.1.output.dense.bias to weights-emotion/layer1_output_bias.txt\n",
      "Saved bert.pooler.dense.weight to weights-emotion/pooler_dense_weight.txt\n",
      "Saved bert.pooler.dense.bias to weights-emotion/pooler_dense_bias.txt\n",
      "Saved classifier.weight to weights-emotion/classifier_weight.txt\n",
      "Saved classifier.bias to weights-emotion/classifier_bias.txt\n"
     ]
    }
   ],
   "source": [
    "import os\n",
    "import numpy as np\n",
    "\n",
    "# Create a directory to save the parameters\n",
    "os.makedirs('weights-emotion', exist_ok=True)\n",
    "\n",
    "# Access the state dictionary of the model\n",
    "state_dict = model.state_dict()\n",
    "\n",
    "# Function to save a tensor to a text file\n",
    "def save_tensor_to_txt(tensor, filepath):\n",
    "    # Convert tensor to numpy array\n",
    "    array = tensor.cpu().numpy()\n",
    "    # Save to text file with desired formatting\n",
    "    with open(filepath, 'w') as f:\n",
    "        for row in array.reshape(-1):\n",
    "            f.write(f\"{row}\\n\")\n",
    "            \n",
    "# Function to save a tensor to a text file\n",
    "def save_tensor_to_txt2(tensor, filepath):\n",
    "    # Convert tensor to numpy array\n",
    "    array = tensor.cpu().numpy()\n",
    "    # Reshape the array to 128 rows and 128 columns\n",
    "    reshaped_array = array.reshape(128, 128)\n",
    "    # Save to text file with desired formatting\n",
    "    np.savetxt(filepath, reshaped_array, delimiter=',')\n",
    "\n",
    "exclude_keywords = [\n",
    "    \"attself_query_weight\",\n",
    "    \"attself_key_weight\",\n",
    "    \"attself_value_weight\",\n",
    "    \"selfouotput_weight\"\n",
    "    \"pooler_dense_weight\"\n",
    "]\n",
    "    \n",
    "# Iterate through all parameters and save the ones you're interested in\n",
    "for name, param in state_dict.items():\n",
    "    # Check if the parameter name matches the desired layers\n",
    "    if any(keyword in name for keyword in [\n",
    "        'attention.self.query', \n",
    "        'attention.self.key', \n",
    "        'attention.self.value',\n",
    "        'attention.output.dense',\n",
    "        'intermediate.dense',\n",
    "        'output.dense',\n",
    "        'pooler.dense',\n",
    "        'classifier'\n",
    "    ]):\n",
    "        # Replace dots with underscores for file naming\n",
    "        filename = name.replace('.', '_') + '.txt'\n",
    "        \n",
    "        # remove bert_encoder_\n",
    "        if filename[:13] == \"bert_encoder_\":\n",
    "            filename = filename[13:]\n",
    "        elif filename[:5] == \"bert_\":\n",
    "            filename = filename[5:]\n",
    "            \n",
    "        # layer_0 -> layer0\n",
    "        filename = filename.replace('layer_0', 'layer0')\n",
    "        filename = filename.replace('layer_1', 'layer1')\n",
    "        \n",
    "        # attention_self -> attself\n",
    "        # attention_output_dense -> selfoutput\n",
    "        # intermediate_dense -> intermediate\n",
    "        # output_dense -> output\n",
    "        filename = filename.replace('attention_self', 'attself')\n",
    "        filename = filename.replace('attention_output_dense', 'selfoutput')\n",
    "        filename = filename.replace('intermediate_dense', 'intermediate')\n",
    "        filename = filename.replace('output_dense', 'output')\n",
    "        \n",
    "        filepath = os.path.join('weights-emotion', filename)\n",
    "        \n",
    "        if any(keyword in filepath for keyword in exclude_keywords):\n",
    "            save_tensor_to_txt2(param, filepath)\n",
    "        else:\n",
    "            save_tensor_to_txt(param, filepath)\n",
    "        print(f\"Saved {name} to {filepath}\")"
   ]
  },
  {
   "cell_type": "code",
   "execution_count": 3,
   "metadata": {},
   "outputs": [],
   "source": [
    "import numpy as np\n",
    "\n",
    "layer0_intermediate_weight = np.loadtxt(f\"./weights-emotion/layer0_intermediate_weight.txt\")\n",
    "layer1_intermediate_weight = np.loadtxt(f\"./weights-emotion/layer1_intermediate_weight.txt\")\n",
    "\n",
    "layer0_output_weight = np.loadtxt(f\"./weights-emotion/layer0_output_weight.txt\")\n",
    "layer1_output_weight = np.loadtxt(f\"./weights-emotion/layer1_output_weight.txt\")"
   ]
  },
  {
   "cell_type": "code",
   "execution_count": 4,
   "metadata": {},
   "outputs": [],
   "source": [
    "split_size = len(layer0_intermediate_weight)/4\n",
    "num = int(split_size)\n",
    "\n",
    "layer0_intermediate_weight1 = layer0_intermediate_weight[:num]\n",
    "layer0_intermediate_weight2 = layer0_intermediate_weight[num:(num*2)]\n",
    "layer0_intermediate_weight3 = layer0_intermediate_weight[(num*2):(num*3)]\n",
    "layer0_intermediate_weight4 = layer0_intermediate_weight[(num*3):(num*4)]\n",
    "layer1_intermediate_weight1 = layer1_intermediate_weight[:num]\n",
    "layer1_intermediate_weight2 = layer1_intermediate_weight[num:(num*2)]\n",
    "layer1_intermediate_weight3 = layer1_intermediate_weight[(num*2):(num*3)]\n",
    "layer1_intermediate_weight4 = layer1_intermediate_weight[(num*3):(num*4)]\n",
    "\n",
    "layer0_output_weight1 = layer0_output_weight[:num]\n",
    "layer0_output_weight2 = layer0_output_weight[num:(num*2)]\n",
    "layer0_output_weight3 = layer0_output_weight[(num*2):(num*3)]\n",
    "layer0_output_weight4 = layer0_output_weight[(num*3):(num*4)]\n",
    "layer1_output_weight1 = layer1_output_weight[:num]\n",
    "layer1_output_weight2 = layer1_output_weight[num:(num*2)]\n",
    "layer1_output_weight3 = layer1_output_weight[(num*2):(num*3)]\n",
    "layer1_output_weight4 = layer1_output_weight[(num*3):(num*4)]\n",
    "\n",
    "np.savetxt(\"./weights-emotion/layer0_intermediate_weight1.txt\", layer0_intermediate_weight1)\n",
    "np.savetxt(\"./weights-emotion/layer0_intermediate_weight2.txt\", layer0_intermediate_weight2)\n",
    "np.savetxt(\"./weights-emotion/layer0_intermediate_weight3.txt\", layer0_intermediate_weight3)\n",
    "np.savetxt(\"./weights-emotion/layer0_intermediate_weight4.txt\", layer0_intermediate_weight4)\n",
    "np.savetxt(\"./weights-emotion/layer1_intermediate_weight1.txt\", layer1_intermediate_weight1)\n",
    "np.savetxt(\"./weights-emotion/layer1_intermediate_weight2.txt\", layer1_intermediate_weight2)\n",
    "np.savetxt(\"./weights-emotion/layer1_intermediate_weight3.txt\", layer1_intermediate_weight3)\n",
    "np.savetxt(\"./weights-emotion/layer1_intermediate_weight4.txt\", layer1_intermediate_weight4)"
   ]
  },
  {
   "cell_type": "code",
   "execution_count": 5,
   "metadata": {},
   "outputs": [],
   "source": [
    "os.remove(\"./weights-emotion/layer0_intermediate_weight.txt\")\n",
    "os.remove(\"./weights-emotion/layer1_intermediate_weight.txt\")\n",
    "\n",
    "os.remove(\"./weights-emotion/layer0_output_weight.txt\")\n",
    "os.remove(\"./weights-emotion/layer1_output_weight.txt\")"
   ]
  },
  {
   "cell_type": "code",
   "execution_count": 6,
   "metadata": {},
   "outputs": [
    {
     "name": "stdout",
     "output_type": "stream",
     "text": [
      "16384\n",
      "16384\n",
      "16384\n",
      "16384\n"
     ]
    }
   ],
   "source": [
    "print(len(layer0_intermediate_weight1))\n",
    "print(len(layer0_intermediate_weight2))\n",
    "print(len(layer0_intermediate_weight3))\n",
    "print(len(layer0_intermediate_weight4))"
   ]
  },
  {
   "cell_type": "code",
   "execution_count": 7,
   "metadata": {},
   "outputs": [
    {
     "name": "stdout",
     "output_type": "stream",
     "text": [
      "-0.1657962054014206\n",
      "0.000812145066447556\n",
      "-0.007029421627521515\n",
      "-0.08165649324655533\n",
      "0.1562705934047699\n"
     ]
    }
   ],
   "source": [
    "print(layer0_intermediate_weight1[16383])\n",
    "print(layer0_intermediate_weight2[0])\n",
    "print(layer0_intermediate_weight2[16383])\n",
    "print(layer0_intermediate_weight3[16383])\n",
    "print(layer0_intermediate_weight4[16383])"
   ]
  },
  {
   "cell_type": "code",
   "execution_count": 8,
   "metadata": {},
   "outputs": [
    {
     "name": "stdout",
     "output_type": "stream",
     "text": [
      "-0.1657962054014206\n",
      "0.000812145066447556\n",
      "-0.007029421627521515\n",
      "-0.08165649324655533\n",
      "0.1562705934047699\n"
     ]
    }
   ],
   "source": [
    "print(layer0_intermediate_weight[16383])\n",
    "print(layer0_intermediate_weight[16384])\n",
    "print(layer0_intermediate_weight[32767])\n",
    "print(layer0_intermediate_weight[49151])\n",
    "print(layer0_intermediate_weight[65535])"
   ]
  }
 ],
 "metadata": {
  "kernelspec": {
   "display_name": "env",
   "language": "python",
   "name": "python3"
  },
  "language_info": {
   "codemirror_mode": {
    "name": "ipython",
    "version": 3
   },
   "file_extension": ".py",
   "mimetype": "text/x-python",
   "name": "python",
   "nbconvert_exporter": "python",
   "pygments_lexer": "ipython3",
   "version": "3.12.3"
  }
 },
 "nbformat": 4,
 "nbformat_minor": 2
}
