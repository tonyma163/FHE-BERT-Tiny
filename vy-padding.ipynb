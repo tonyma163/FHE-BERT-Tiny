{
 "cells": [
  {
   "cell_type": "code",
   "execution_count": 3,
   "metadata": {},
   "outputs": [
    {
     "name": "stderr",
     "output_type": "stream",
     "text": [
      "/Users/tonyma/code/FHE-BERT-Tiny/env/lib/python3.12/site-packages/tqdm/auto.py:21: TqdmWarning: IProgress not found. Please update jupyter and ipywidgets. See https://ipywidgets.readthedocs.io/en/stable/user_install.html\n",
      "  from .autonotebook import tqdm as notebook_tqdm\n"
     ]
    }
   ],
   "source": [
    "from transformers import AutoModelForSequenceClassification, AutoTokenizer\n",
    "import torch\n",
    "import numpy as np\n",
    "import math\n",
    "from matplotlib import pyplot as plt \n",
    "from datasets import load_dataset\n",
    "import pandas as pd"
   ]
  },
  {
   "cell_type": "code",
   "execution_count": 16,
   "metadata": {},
   "outputs": [
    {
     "name": "stdout",
     "output_type": "stream",
     "text": [
      "(128, 128)\n",
      "Number of non-zero values: 7040\n",
      "0.4296875\n"
     ]
    }
   ],
   "source": [
    "import numpy as np\n",
    "\n",
    "# Check sst2 vy\n",
    "vy = np.loadtxt(f\"./weights-sst2/layer0_selfoutput_vy.txt\", delimiter=',')\n",
    "\n",
    "print(vy.shape)\n",
    "\n",
    "# Count non-zero values\n",
    "non_zero_count = np.count_nonzero(vy)\n",
    "print(f\"Number of non-zero values: {non_zero_count}\")\n",
    "\n",
    "print(non_zero_count/(128*128))"
   ]
  },
  {
   "cell_type": "code",
   "execution_count": 32,
   "metadata": {},
   "outputs": [
    {
     "name": "stdout",
     "output_type": "stream",
     "text": [
      "Maximum sentence length after tokenization: 55\n",
      "99th percentile length: 51.289999999999964\n",
      "Average length: 25.163990825688074\n"
     ]
    }
   ],
   "source": [
    "from datasets import load_dataset\n",
    "from transformers import AutoTokenizer\n",
    "\n",
    "# Load the dataset\n",
    "ds = load_dataset(\"stanfordnlp/sst2\", split=\"validation\")\n",
    "\n",
    "# Load the tokenizer\n",
    "tokenizer = AutoTokenizer.from_pretrained(\"prajjwal1/bert-tiny\")\n",
    "\n",
    "# Tokenize all sentences and get their lengths\n",
    "lengths = [len(tokenizer.encode(sentence)) for sentence in ds['sentence']]\n",
    "\n",
    "# Find the maximum length\n",
    "max_length = max(lengths)\n",
    "\n",
    "print(f\"Maximum sentence length after tokenization: {max_length}\")\n",
    "print(f\"99th percentile length: {np.percentile(lengths, 99)}\")\n",
    "print(f\"Average length: {np.mean(lengths)}\")"
   ]
  },
  {
   "cell_type": "code",
   "execution_count": 37,
   "metadata": {},
   "outputs": [
    {
     "name": "stdout",
     "output_type": "stream",
     "text": [
      "Maximum sentence length after tokenization: 66\n",
      "99th percentile length: 55.0\n",
      "Average length: 22.212\n"
     ]
    }
   ],
   "source": [
    "from datasets import load_dataset\n",
    "from transformers import AutoTokenizer\n",
    "\n",
    "# Load the dataset\n",
    "ds = load_dataset(\"dair-ai/emotion\", split=\"test\")\n",
    "# train max length: 87\n",
    "# validation max length: 69\n",
    "# test max length: 66\n",
    "\n",
    "# Load the tokenizer\n",
    "tokenizer = AutoTokenizer.from_pretrained(\"prajjwal1/bert-tiny\")\n",
    "\n",
    "# Tokenize all sentences and get their lengths\n",
    "lengths = [len(tokenizer.encode(sentence)) for sentence in ds['text']]\n",
    "\n",
    "# Find the maximum length\n",
    "max_length = max(lengths)\n",
    "\n",
    "print(f\"Maximum sentence length after tokenization: {max_length}\")\n",
    "print(f\"99th percentile length: {np.percentile(lengths, 99)}\")\n",
    "print(f\"Average length: {np.mean(lengths)}\")"
   ]
  }
 ],
 "metadata": {
  "kernelspec": {
   "display_name": "env",
   "language": "python",
   "name": "python3"
  },
  "language_info": {
   "codemirror_mode": {
    "name": "ipython",
    "version": 3
   },
   "file_extension": ".py",
   "mimetype": "text/x-python",
   "name": "python",
   "nbconvert_exporter": "python",
   "pygments_lexer": "ipython3",
   "version": "3.12.7"
  }
 },
 "nbformat": 4,
 "nbformat_minor": 2
}
